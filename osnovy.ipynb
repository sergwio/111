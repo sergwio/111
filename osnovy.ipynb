{
  "nbformat": 4,
  "nbformat_minor": 0,
  "metadata": {
    "colab": {
      "provenance": [],
      "collapsed_sections": [],
      "authorship_tag": "ABX9TyOZakIds11yqNiG27D8qoi5",
      "include_colab_link": true
    },
    "kernelspec": {
      "name": "python3",
      "display_name": "Python 3"
    },
    "language_info": {
      "name": "python"
    }
  },
  "cells": [
    {
      "cell_type": "markdown",
      "metadata": {
        "id": "view-in-github",
        "colab_type": "text"
      },
      "source": [
        "<a href=\"https://colab.research.google.com/github/sergwio/111/blob/main/osnovy.ipynb\" target=\"_parent\"><img src=\"https://colab.research.google.com/assets/colab-badge.svg\" alt=\"Open In Colab\"/></a>"
      ]
    },
    {
      "cell_type": "markdown",
      "metadata": {
        "id": "ZxKpcSI2MNOH"
      },
      "source": []
    },
    {
      "cell_type": "markdown",
      "metadata": {
        "id": "fmZkWf8Hlzhc"
      },
      "source": []
    },
    {
      "cell_type": "code",
      "metadata": {
        "id": "imzf2tovlx6l"
      },
      "source": [],
      "execution_count": null,
      "outputs": []
    },
    {
      "cell_type": "code",
      "metadata": {
        "colab": {
          "base_uri": "https://localhost:8080/"
        },
        "id": "VzyIev5qEHPb",
        "outputId": "b11661de-a71c-437e-b819-c4f4c68da350"
      },
      "source": [
        "!pip3 install scipy"
      ],
      "execution_count": null,
      "outputs": [
        {
          "output_type": "stream",
          "name": "stdout",
          "text": [
            "Looking in indexes: https://pypi.org/simple, https://us-python.pkg.dev/colab-wheels/public/simple/\n",
            "Requirement already satisfied: scipy in /usr/local/lib/python3.7/dist-packages (1.7.3)\n",
            "Requirement already satisfied: numpy<1.23.0,>=1.16.5 in /usr/local/lib/python3.7/dist-packages (from scipy) (1.21.6)\n"
          ]
        }
      ]
    },
    {
      "cell_type": "code",
      "metadata": {
        "colab": {
          "base_uri": "https://localhost:8080/"
        },
        "id": "UulNqZ9yE2F5",
        "outputId": "ef4c02fd-3878-497a-d812-f695b133af3e"
      },
      "source": [
        "import cmath\n",
        "cmath.exp(3) # Вычисление экспоненты\n"
      ],
      "execution_count": null,
      "outputs": [
        {
          "output_type": "execute_result",
          "data": {
            "text/plain": [
              "(20.085536923187668+0j)"
            ]
          },
          "metadata": {},
          "execution_count": 30
        }
      ]
    },
    {
      "cell_type": "code",
      "metadata": {
        "colab": {
          "base_uri": "https://localhost:8080/"
        },
        "id": "bUj3YwPMNEdJ",
        "outputId": "be4c83db-0885-4c5e-e39d-8fe97bce2523"
      },
      "source": [
        "print(\"log10 числа 50 равен:\", math.log(2,50))"
      ],
      "execution_count": null,
      "outputs": [
        {
          "output_type": "stream",
          "name": "stdout",
          "text": [
            "log10 числа 50 равен: 0.17718382013555792\n"
          ]
        }
      ]
    },
    {
      "cell_type": "code",
      "metadata": {
        "colab": {
          "base_uri": "https://localhost:8080/"
        },
        "id": "EtOVGdzuOJ41",
        "outputId": "191c768c-e933-4ed1-9349-ccb25669fe4d"
      },
      "source": [
        "for number in range(5):\n",
        " print(number)\n"
      ],
      "execution_count": null,
      "outputs": [
        {
          "output_type": "stream",
          "name": "stdout",
          "text": [
            "0\n",
            "1\n",
            "2\n",
            "3\n",
            "4\n"
          ]
        }
      ]
    },
    {
      "cell_type": "code",
      "metadata": {
        "id": "Q8s1KywoOJkb"
      },
      "source": [],
      "execution_count": null,
      "outputs": []
    },
    {
      "cell_type": "code",
      "metadata": {
        "id": "6QffKEDeHE2L",
        "colab": {
          "base_uri": "https://localhost:8080/"
        },
        "outputId": "8e1e9091-d91b-4962-8a04-047423ea3284"
      },
      "source": [
        "math.sin(10)"
      ],
      "execution_count": null,
      "outputs": [
        {
          "output_type": "execute_result",
          "data": {
            "text/plain": [
              "-0.5440211108893698"
            ]
          },
          "metadata": {},
          "execution_count": 28
        }
      ]
    },
    {
      "cell_type": "code",
      "metadata": {
        "id": "_WsECqgph4uu"
      },
      "source": [
        "import numpy as np"
      ],
      "execution_count": null,
      "outputs": []
    },
    {
      "cell_type": "code",
      "metadata": {
        "id": "4PwktaKMiCcu",
        "colab": {
          "base_uri": "https://localhost:8080/"
        },
        "outputId": "74dfd2fb-f6c8-4c22-fddd-357e9732a39e"
      },
      "source": [
        "np.array([1, 4, 5, 8], float)\n"
      ],
      "execution_count": null,
      "outputs": [
        {
          "output_type": "execute_result",
          "data": {
            "text/plain": [
              "array([1., 4., 5., 8.])"
            ]
          },
          "metadata": {},
          "execution_count": 4
        }
      ]
    },
    {
      "cell_type": "code",
      "metadata": {
        "id": "tgRkFrV9hgMn",
        "colab": {
          "base_uri": "https://localhost:8080/"
        },
        "outputId": "da917daa-9af0-4c49-bfa9-e19ad9dce8f2"
      },
      "source": [
        "np.arange(5, dtype=float)"
      ],
      "execution_count": null,
      "outputs": [
        {
          "output_type": "execute_result",
          "data": {
            "text/plain": [
              "array([0., 1., 2., 3., 4.])"
            ]
          },
          "metadata": {},
          "execution_count": 5
        }
      ]
    },
    {
      "cell_type": "code",
      "metadata": {
        "id": "cLDOoReohhKk",
        "colab": {
          "base_uri": "https://localhost:8080/"
        },
        "outputId": "6ac7055b-5919-482d-a59c-5b76ae6b0539"
      },
      "source": [
        "np.arange(1, 6, 2, dtype=int)"
      ],
      "execution_count": null,
      "outputs": [
        {
          "output_type": "execute_result",
          "data": {
            "text/plain": [
              "array([1, 3, 5])"
            ]
          },
          "metadata": {},
          "execution_count": 4
        }
      ]
    },
    {
      "cell_type": "code",
      "metadata": {
        "id": "X_qOQJ6jieYN",
        "colab": {
          "base_uri": "https://localhost:8080/"
        },
        "outputId": "e5b61330-cf17-46da-c09c-53d00a00fbef"
      },
      "source": [
        "np.ones((2,3), dtype=float)"
      ],
      "execution_count": null,
      "outputs": [
        {
          "output_type": "execute_result",
          "data": {
            "text/plain": [
              "array([[1., 1., 1.],\n",
              "       [1., 1., 1.]])"
            ]
          },
          "metadata": {},
          "execution_count": 6
        }
      ]
    },
    {
      "cell_type": "code",
      "metadata": {
        "id": "fq7i4KlmikO7",
        "colab": {
          "base_uri": "https://localhost:8080/"
        },
        "outputId": "6914ba7d-91b6-4cb8-b166-17b2c81654f3"
      },
      "source": [
        "np.zeros(7, dtype=int)"
      ],
      "execution_count": null,
      "outputs": [
        {
          "output_type": "execute_result",
          "data": {
            "text/plain": [
              "array([0, 0, 0, 0, 0, 0, 0])"
            ]
          },
          "metadata": {},
          "execution_count": 7
        }
      ]
    },
    {
      "cell_type": "code",
      "metadata": {
        "id": "tiLvf7suir6Y",
        "colab": {
          "base_uri": "https://localhost:8080/"
        },
        "outputId": "3744ea3c-61d1-44cf-9f35-3d577b1d9ac7"
      },
      "source": [
        "a = np.array([[1, 2, 3], [4, 5, 6]], float)\n",
        "np.zeros_like(a)"
      ],
      "execution_count": null,
      "outputs": [
        {
          "output_type": "execute_result",
          "data": {
            "text/plain": [
              "array([[0., 0., 0.],\n",
              "       [0., 0., 0.]])"
            ]
          },
          "metadata": {},
          "execution_count": 8
        }
      ]
    },
    {
      "cell_type": "code",
      "metadata": {
        "id": "Ez_ZDHoujIkU"
      },
      "source": [
        "np.array([[1,2],[3,4]])"
      ],
      "execution_count": null,
      "outputs": []
    },
    {
      "cell_type": "code",
      "metadata": {
        "colab": {
          "base_uri": "https://localhost:8080/"
        },
        "id": "A1fhTqjejTvd",
        "outputId": "1d585f4a-d6ef-4ebb-cae9-6e43517b0242"
      },
      "source": [
        "a = np.array([1,2,3], float)\n",
        "b = np.array([5,2,6], float)\n",
        "a + b"
      ],
      "execution_count": null,
      "outputs": [
        {
          "output_type": "execute_result",
          "data": {
            "text/plain": [
              "array([6., 4., 9.])"
            ]
          },
          "metadata": {
            "tags": []
          },
          "execution_count": 68
        }
      ]
    },
    {
      "cell_type": "code",
      "metadata": {
        "colab": {
          "base_uri": "https://localhost:8080/"
        },
        "id": "CNWJfzg0j9Nu",
        "outputId": "e973018f-1336-40f7-a0be-2277cc18f467"
      },
      "source": [
        "a-b"
      ],
      "execution_count": null,
      "outputs": [
        {
          "output_type": "execute_result",
          "data": {
            "text/plain": [
              "array([-4.,  0., -3.])"
            ]
          },
          "metadata": {
            "tags": []
          },
          "execution_count": 69
        }
      ]
    },
    {
      "cell_type": "code",
      "metadata": {
        "colab": {
          "base_uri": "https://localhost:8080/"
        },
        "id": "YBZW2ulokNo4",
        "outputId": "28c59049-83f3-4573-d22a-d331e7a33554"
      },
      "source": [
        "a * b"
      ],
      "execution_count": null,
      "outputs": [
        {
          "output_type": "execute_result",
          "data": {
            "text/plain": [
              "array([ 5.,  4., 18.])"
            ]
          },
          "metadata": {
            "tags": []
          },
          "execution_count": 70
        }
      ]
    },
    {
      "cell_type": "code",
      "metadata": {
        "colab": {
          "base_uri": "https://localhost:8080/"
        },
        "id": "_z0XiZUMkQCV",
        "outputId": "24e197da-dc08-4142-c08e-c935dee61e47"
      },
      "source": [
        "b / a"
      ],
      "execution_count": null,
      "outputs": [
        {
          "output_type": "execute_result",
          "data": {
            "text/plain": [
              "array([5., 1., 2.])"
            ]
          },
          "metadata": {
            "tags": []
          },
          "execution_count": 71
        }
      ]
    },
    {
      "cell_type": "code",
      "metadata": {
        "colab": {
          "base_uri": "https://localhost:8080/",
          "height": 165
        },
        "id": "zm3dezI3kWtX",
        "outputId": "a43e3cfe-ada2-47e4-bf11-0c85ba8babc3"
      },
      "source": [
        "b**a"
      ],
      "execution_count": null,
      "outputs": [
        {
          "output_type": "error",
          "ename": "NameError",
          "evalue": "ignored",
          "traceback": [
            "\u001b[0;31m---------------------------------------------------------------------------\u001b[0m",
            "\u001b[0;31mNameError\u001b[0m                                 Traceback (most recent call last)",
            "\u001b[0;32m<ipython-input-9-01b71b9c9942>\u001b[0m in \u001b[0;36m<module>\u001b[0;34m\u001b[0m\n\u001b[0;32m----> 1\u001b[0;31m \u001b[0mb\u001b[0m\u001b[0;34m**\u001b[0m\u001b[0ma\u001b[0m\u001b[0;34m\u001b[0m\u001b[0;34m\u001b[0m\u001b[0m\n\u001b[0m",
            "\u001b[0;31mNameError\u001b[0m: name 'b' is not defined"
          ]
        }
      ]
    },
    {
      "cell_type": "code",
      "metadata": {
        "colab": {
          "base_uri": "https://localhost:8080/"
        },
        "id": "EzUPIjTTktMk",
        "outputId": "7c6d19c6-4006-44a2-9fda-434f01663f76"
      },
      "source": [
        "a = np.array([[1, 2], [3, 4], [5, 6]], float)\n",
        "b = np.array([-1, 3], float)\n",
        "a + b"
      ],
      "execution_count": null,
      "outputs": [
        {
          "output_type": "execute_result",
          "data": {
            "text/plain": [
              "array([[0., 5.],\n",
              "       [2., 7.],\n",
              "       [4., 9.]])"
            ]
          },
          "metadata": {},
          "execution_count": 10
        }
      ]
    },
    {
      "cell_type": "code",
      "metadata": {
        "colab": {
          "base_uri": "https://localhost:8080/"
        },
        "id": "L6TRdOKBlePB",
        "outputId": "214093af-9900-4707-9f6d-caf33d1dac2a"
      },
      "source": [
        "a = np.array([1, 2, 3], float)\n",
        "b = np.array([0, 1, 1], float)\n",
        "np.dot(a, b)"
      ],
      "execution_count": null,
      "outputs": [
        {
          "output_type": "execute_result",
          "data": {
            "text/plain": [
              "5.0"
            ]
          },
          "metadata": {
            "tags": []
          },
          "execution_count": 77
        }
      ]
    },
    {
      "cell_type": "code",
      "metadata": {
        "id": "hvOFHLwTlspY"
      },
      "source": [
        "np.outer(a, b)"
      ],
      "execution_count": null,
      "outputs": []
    },
    {
      "cell_type": "code",
      "metadata": {
        "id": "i9feph53lv4y"
      },
      "source": [
        "np.inner(a, b)"
      ],
      "execution_count": null,
      "outputs": []
    },
    {
      "cell_type": "code",
      "metadata": {
        "id": "Y_C3ahCTlw4T"
      },
      "source": [
        "np.cross(a, b)"
      ],
      "execution_count": null,
      "outputs": []
    },
    {
      "cell_type": "code",
      "metadata": {
        "colab": {
          "base_uri": "https://localhost:8080/"
        },
        "id": "_soJRZiiyuYO",
        "outputId": "fce43802-2346-412b-823a-e652eaa1a1b0"
      },
      "source": [
        "a.shape"
      ],
      "execution_count": null,
      "outputs": [
        {
          "output_type": "execute_result",
          "data": {
            "text/plain": [
              "(3,)"
            ]
          },
          "metadata": {
            "tags": []
          },
          "execution_count": 40
        }
      ]
    },
    {
      "cell_type": "code",
      "metadata": {
        "colab": {
          "base_uri": "https://localhost:8080/"
        },
        "id": "lHJ_XMcNy-Md",
        "outputId": "2e20d409-e94f-4326-a408-43a42664e04f"
      },
      "source": [
        "a.dtype"
      ],
      "execution_count": null,
      "outputs": [
        {
          "output_type": "execute_result",
          "data": {
            "text/plain": [
              "dtype('float64')"
            ]
          },
          "metadata": {
            "tags": []
          },
          "execution_count": 41
        }
      ]
    },
    {
      "cell_type": "code",
      "metadata": {
        "colab": {
          "base_uri": "https://localhost:8080/"
        },
        "id": "DPC1i94fzUj8",
        "outputId": "6cb213ba-3e04-406e-fb1f-2cfc7bc1160a"
      },
      "source": [
        "len(a)"
      ],
      "execution_count": null,
      "outputs": [
        {
          "output_type": "execute_result",
          "data": {
            "text/plain": [
              "3"
            ]
          },
          "metadata": {},
          "execution_count": 11
        }
      ]
    },
    {
      "cell_type": "code",
      "metadata": {
        "colab": {
          "base_uri": "https://localhost:8080/"
        },
        "id": "VAWwzCIezdtI",
        "outputId": "851fc878-f012-4a28-ba29-8ae9fdc9ab2c"
      },
      "source": [
        "a = np.array([[1, 2], [3, 4]], float)\n",
        "b = np.array([[5, 6], [7,8]], float)\n",
        "\n",
        "np.concatenate((a, b))"
      ],
      "execution_count": null,
      "outputs": [
        {
          "output_type": "execute_result",
          "data": {
            "text/plain": [
              "array([[1., 2.],\n",
              "       [3., 4.],\n",
              "       [5., 6.],\n",
              "       [7., 8.]])"
            ]
          },
          "metadata": {},
          "execution_count": 13
        }
      ]
    },
    {
      "cell_type": "code",
      "metadata": {
        "colab": {
          "base_uri": "https://localhost:8080/"
        },
        "id": "6lhwSxpNzuT0",
        "outputId": "f7ad1da0-9c75-45cf-d9df-1cd112be6669"
      },
      "source": [
        "np.concatenate((a,b), axis=1)"
      ],
      "execution_count": null,
      "outputs": [
        {
          "output_type": "execute_result",
          "data": {
            "text/plain": [
              "array([[1., 2., 5., 6.],\n",
              "       [3., 4., 7., 8.]])"
            ]
          },
          "metadata": {},
          "execution_count": 14
        }
      ]
    },
    {
      "cell_type": "code",
      "metadata": {
        "colab": {
          "base_uri": "https://localhost:8080/"
        },
        "id": "sF2ifDRu0UUj",
        "outputId": "470fe781-41c9-45d4-e9fb-fa6b4153b257"
      },
      "source": [
        "a.shape"
      ],
      "execution_count": null,
      "outputs": [
        {
          "output_type": "execute_result",
          "data": {
            "text/plain": [
              "(2, 2)"
            ]
          },
          "metadata": {},
          "execution_count": 15
        }
      ]
    },
    {
      "cell_type": "code",
      "metadata": {
        "colab": {
          "base_uri": "https://localhost:8080/"
        },
        "id": "58l1-JNB0KlO",
        "outputId": "26ad0c49-626f-4d8e-dd9d-eaf9ceea49dc"
      },
      "source": [
        "a[:,np.newaxis].shape"
      ],
      "execution_count": null,
      "outputs": [
        {
          "output_type": "execute_result",
          "data": {
            "text/plain": [
              "(3, 1, 2)"
            ]
          },
          "metadata": {
            "tags": []
          },
          "execution_count": 75
        }
      ]
    },
    {
      "cell_type": "code",
      "metadata": {
        "colab": {
          "base_uri": "https://localhost:8080/"
        },
        "id": "dJtPDZ550V9M",
        "outputId": "6d277348-307c-456d-ac62-ec6fd010b991"
      },
      "source": [
        "b[np.newaxis,:].shape"
      ],
      "execution_count": null,
      "outputs": [
        {
          "output_type": "execute_result",
          "data": {
            "text/plain": [
              "(1, 2)"
            ]
          },
          "metadata": {
            "tags": []
          },
          "execution_count": 76
        }
      ]
    },
    {
      "cell_type": "code",
      "metadata": {
        "colab": {
          "base_uri": "https://localhost:8080/",
          "height": 312
        },
        "id": "cqyXBU-_0Vwn",
        "outputId": "0b600b45-154b-46da-b825-bd2bb6539557"
      },
      "source": [
        "import matplotlib.pyplot as plt\n",
        "import numpy as np\n",
        "x = np.linspace(0, 10, 50) # Независимая (x) и зависимая (y) переменные\n",
        "y = x\n",
        "# Построение графика\n",
        "plt.title(\"Линейная зависимость y = x\") # заголовок\n",
        "plt.xlabel(\"x\") # ось абсцисс\n",
        "plt.ylabel(\"y\") # ось ординат\n",
        "plt.grid() # включение отображение сетки\n",
        "plt.plot(x, y) # построение графика\n"
      ],
      "execution_count": null,
      "outputs": [
        {
          "output_type": "execute_result",
          "data": {
            "text/plain": [
              "[<matplotlib.lines.Line2D at 0x7efc0f2b9090>]"
            ]
          },
          "metadata": {},
          "execution_count": 22
        },
        {
          "output_type": "display_data",
          "data": {
            "text/plain": [
              "<Figure size 432x288 with 1 Axes>"
            ],
            "image/png": "[encoded data removed]"
          },
          "metadata": {
            "needs_background": "light"
          }
        }
      ]
    },
    {
      "cell_type": "code",
      "metadata": {
        "colab": {
          "base_uri": "https://localhost:8080/",
          "height": 312
        },
        "id": "Sz30vJx7_qLb",
        "outputId": "092d1a2b-892f-4ebd-aa8c-01c904b7fc41"
      },
      "source": [
        "# Построение графика\n",
        "plt.title(\"Линейная зависимость y = x\") # заголовок\n",
        "plt.xlabel(\"x\") # ось абсцисс\n",
        "plt.ylabel(\"y\") # ось ординат\n",
        "plt.grid() # включение отображение сетки\n",
        "plt.plot(x, y, \"r--\") # построение графика\n"
      ],
      "execution_count": null,
      "outputs": [
        {
          "output_type": "execute_result",
          "data": {
            "text/plain": [
              "[<matplotlib.lines.Line2D at 0x7ff408384050>]"
            ]
          },
          "metadata": {
            "tags": []
          },
          "execution_count": 58
        },
        {
          "output_type": "display_data",
          "data": {
            "image/png": "[encoded data removed]",
            "text/plain": [
              "<Figure size 432x288 with 1 Axes>"
            ]
          },
          "metadata": {
            "tags": [],
            "needs_background": "light"
          }
        }
      ]
    },
    {
      "cell_type": "code",
      "metadata": {
        "colab": {
          "base_uri": "https://localhost:8080/",
          "height": 329
        },
        "id": "lMUkJziq_vz3",
        "outputId": "f2b9d3be-c0e9-4cf6-8868-6ebcc8fbcb64"
      },
      "source": [
        "import matplotlib.pyplot as plt\n",
        "x = np.linspace(0, 10, 50)\n",
        "y1 = x\n",
        "# Квадратичная зависимость\n",
        "y2 = [i**2 for i in x]\n",
        "# Построение графика\n",
        "plt.title(\"Зависимости: y1 = x, y2 = x^2\") # заголовок\n",
        "plt.xlabel(\"x\") # ось абсцисс\n",
        "plt.ylabel(\"y1, y2\") # ось ординат\n",
        "plt.grid() # включение отображение сетки\n",
        "plt.plot(x, y1, x, y2) # построение графика\n"
      ],
      "execution_count": null,
      "outputs": [
        {
          "output_type": "execute_result",
          "data": {
            "text/plain": [
              "[<matplotlib.lines.Line2D at 0x7ff407e4ee10>,\n",
              " <matplotlib.lines.Line2D at 0x7ff407e4efd0>]"
            ]
          },
          "metadata": {
            "tags": []
          },
          "execution_count": 59
        },
        {
          "output_type": "display_data",
          "data": {
            "image/png": "[encoded data removed]",
            "text/plain": [
              "<Figure size 432x288 with 1 Axes>"
            ]
          },
          "metadata": {
            "tags": [],
            "needs_background": "light"
          }
        }
      ]
    },
    {
      "cell_type": "code",
      "metadata": {
        "colab": {
          "base_uri": "https://localhost:8080/",
          "height": 571
        },
        "id": "hPMZcz7E_2s9",
        "outputId": "27564091-d2da-4d4b-c360-afd4befb5795"
      },
      "source": [
        "import matplotlib.pyplot as plt\n",
        "x = np.linspace(0, 10, 50)\n",
        "y1 = x\n",
        "# Квадратичная зависимость\n",
        "y2 = [i**2 for i in x]\n",
        "# Построение графиков\n",
        "plt.figure(figsize=(9, 9))\n",
        "plt.subplot(2, 1, 1)\n",
        "plt.plot(x, y1) # построение графика\n",
        "plt.title(\"Зависимости: y1 = x, y2 = x^2\") # заголовок\n",
        "plt.ylabel(\"y1\", fontsize=14) # ось ординат\n",
        "plt.grid(True) # включение отображение сетки\n",
        "plt.subplot(2, 1, 2)\n",
        "plt.plot(x, y2) # построение графика\n",
        "plt.xlabel(\"x\", fontsize=14) # ось абсцисс\n",
        "plt.ylabel(\"y2\", fontsize=14) # ось ординат\n",
        "plt.grid(True) # включение отображение сетки\n"
      ],
      "execution_count": null,
      "outputs": [
        {
          "output_type": "display_data",
          "data": {
            "image/png": "[encoded data removed]",
            "text/plain": [
              "<Figure size 648x648 with 2 Axes>"
            ]
          },
          "metadata": {
            "tags": [],
            "needs_background": "light"
          }
        }
      ]
    },
    {
      "cell_type": "code",
      "metadata": {
        "colab": {
          "base_uri": "https://localhost:8080/",
          "height": 312
        },
        "id": "9v2OETVK_9KW",
        "outputId": "901a0c4d-68e3-45f4-f9d3-97b6bc8a8577"
      },
      "source": [
        "import matplotlib.pyplot as plt\n",
        "fruits = [\"apple\", \"peach\", \"orange\", \"bannana\", \"melon\"]\n",
        "counts = [34, 25, 43, 31, 17]\n",
        "plt.bar(fruits, counts)\n",
        "plt.title(\"Fruits!\")\n",
        "plt.xlabel(\"Fruit\")\n",
        "plt.ylabel(\"Count\")\n"
      ],
      "execution_count": null,
      "outputs": [
        {
          "output_type": "execute_result",
          "data": {
            "text/plain": [
              "Text(0, 0.5, 'Count')"
            ]
          },
          "metadata": {
            "tags": []
          },
          "execution_count": 61
        },
        {
          "output_type": "display_data",
          "data": {
            "image/png": "[encoded data removed]",
            "text/plain": [
              "<Figure size 432x288 with 1 Axes>"
            ]
          },
          "metadata": {
            "tags": [],
            "needs_background": "light"
          }
        }
      ]
    },
    {
      "cell_type": "markdown",
      "metadata": {
        "id": "sktkC2jAE15s"
      },
      "source": []
    }
  ]
}